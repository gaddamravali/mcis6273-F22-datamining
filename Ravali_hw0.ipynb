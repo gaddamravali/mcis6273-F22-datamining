{
 "cells": [
  {
   "cell_type": "code",
   "execution_count": null,
   "metadata": {},
   "outputs": [],
   "source": []
  },
  {
   "cell_type": "markdown",
   "metadata": {},
   "source": [
    "# TalkPython[‘Podcast’] Assignment Zero :\n",
    "## Zotera UserID : Ravaligaddam"
   ]
  },
  {
   "cell_type": "markdown",
   "metadata": {},
   "source": [
    "### Q.1  List 3 things that you learned from this podcast?\n",
    "\n",
    "- I learnt how vast the jupter notebooks applications can be. After listening to Adam, I learned that The jupyter notebook is being used by data scientists, biological researchers, developers and many more. There no end to the users. Especially learning that when Adam did research on Github and found more than a million notebooks itself dectets the importance of jupyter notebook\n",
    "\n",
    "- It was nice to know that the name Jupyter notebook came from conjunction of three words , julia, python and R, the three languages used in the world of data. I have seen similar notebooks on Kaggle.com as well. Notebooks have made life so much easier since it can give cell by cell description of the code in collaboration with the markdown cells. \n",
    "\n",
    "- I learnt that notebooks can be used to see the cell by cell output of the codes. That is so much helpful rather than just to get the whole script run at once. The same feature is mostly useful to get plots, visualizations along with the markdown feature."
   ]
  },
  {
   "cell_type": "markdown",
   "metadata": {},
   "source": [
    "\n",
    "\n",
    "\n",
    "\n",
    "### Q. 2 What is your reaction to the podcast? Pick at least one point Adam brought up in the interview that you agree with and list your reason why? \n",
    "    I think Adam's podcast was so much informative. I learnt so much about, github, jupyter, vast applications of the data science domain at large. \n",
    "\n",
    "    Adam mentioned the importance of Artificial Intelligence and how robots are actually changing the business, industries and academia. He was opt to the fact that machine lerarning is so important topic and how it is so much useful in different sectors like Amazon, automobile industry. The decision making through data training etc is so much important to the Artificial Intelligence industry to grow.\n"
   ]
  },
  {
   "cell_type": "markdown",
   "metadata": {},
   "source": [
    "### Q. 3  After listening to the podcast , do you think you are more interested or less interested in learning from Jupyter notebooks on Github?\n",
    "\n",
    "    I am exited to work on Jupyter notebook and github especially after listening to Adam's podcast. I think he was really talking about how jupter notebook is changing the future of coding. I noticed this podcast is 4 years old, Adam was so accurate in this prediction of the importance of github and jupter that in todays world I dont think the github repositories are just 1 million now. This count of notebooks on github Data as per one site was around 9 Million notebooks, out of which 97% notebooks were in python lanuage.\n",
    "    This itself shows the vast usefuless of the notebooks and version control system provided by Github."
   ]
  },
  {
   "cell_type": "code",
   "execution_count": null,
   "metadata": {},
   "outputs": [],
   "source": []
  },
  {
   "cell_type": "code",
   "execution_count": null,
   "metadata": {},
   "outputs": [],
   "source": []
  }
 ],
 "metadata": {
  "kernelspec": {
   "display_name": "Python 3.10.5 64-bit",
   "language": "python",
   "name": "python3"
  },
  "language_info": {
   "codemirror_mode": {
    "name": "ipython",
    "version": 3
   },
   "file_extension": ".py",
   "mimetype": "text/x-python",
   "name": "python",
   "nbconvert_exporter": "python",
   "pygments_lexer": "ipython3",
   "version": "3.10.5"
  },
  "vscode": {
   "interpreter": {
    "hash": "aee8b7b246df8f9039afb4144a1f6fd8d2ca17a180786b69acc140d282b71a49"
   }
  }
 },
 "nbformat": 4,
 "nbformat_minor": 2
}
